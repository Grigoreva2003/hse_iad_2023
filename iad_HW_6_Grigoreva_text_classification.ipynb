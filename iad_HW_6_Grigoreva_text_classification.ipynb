{
  "cells": [
    {
      "cell_type": "markdown",
      "metadata": {
        "id": "xrvOD02o3HvH"
      },
      "source": [
        "# Домашнее задание 6: классификация текстов"
      ]
    },
    {
      "cell_type": "markdown",
      "metadata": {
        "id": "sxwj_Iie3HvJ"
      },
      "source": [
        "В этом домашнем задании вам предстоит построить классификатор текстов!\n",
        "\n",
        "Данные мы будем использовать из Kaggle соревнования: https://www.kaggle.com/competitions/nlp-getting-started/data\n",
        "\n",
        "\n",
        "Оттуда надо скачать файл train.csv. На обучающую и тестовую выборки его поделим кодом ниже, менять его не надо!"
      ]
    },
    {
      "cell_type": "markdown",
      "metadata": {
        "id": "qQVgqLg93HvJ"
      },
      "source": [
        "Мы будем работать с датасетом постов из твиттера. Нам предстоит решать задачу бинарной классификации - определять содержатся ли в твитте информация о настоящей катастрофе/инциденте или нет."
      ]
    },
    {
      "cell_type": "code",
      "execution_count": null,
      "metadata": {
        "id": "TcjEYh7R3HvK"
      },
      "outputs": [],
      "source": [
        "import numpy as np\n",
        "import pandas as pd\n",
        "from typing import  List\n",
        "import matplotlib.pyplot as plt\n",
        "import seaborn as sns\n",
        "from string import punctuation"
      ]
    },
    {
      "cell_type": "code",
      "execution_count": null,
      "metadata": {
        "id": "mjwffGiB3HvK"
      },
      "outputs": [],
      "source": [
        "data = pd.read_csv('train.csv')"
      ]
    },
    {
      "cell_type": "code",
      "execution_count": null,
      "metadata": {
        "colab": {
          "base_uri": "https://localhost:8080/",
          "height": 206
        },
        "id": "v0uUoFTN3HvK",
        "outputId": "b27afd4c-f169-4a83-87cb-581ce669fd88"
      },
      "outputs": [
        {
          "output_type": "execute_result",
          "data": {
            "text/plain": [
              "   id keyword location                                               text  \\\n",
              "0   1     NaN      NaN  Our Deeds are the Reason of this #earthquake M...   \n",
              "1   4     NaN      NaN             Forest fire near La Ronge Sask. Canada   \n",
              "2   5     NaN      NaN  All residents asked to 'shelter in place' are ...   \n",
              "3   6     NaN      NaN  13,000 people receive #wildfires evacuation or...   \n",
              "4   7     NaN      NaN  Just got sent this photo from Ruby #Alaska as ...   \n",
              "\n",
              "   target  \n",
              "0       1  \n",
              "1       1  \n",
              "2       1  \n",
              "3       1  \n",
              "4       1  "
            ],
            "text/html": [
              "\n",
              "  <div id=\"df-e8d9ee9d-48aa-45db-bef2-ba497c820e40\">\n",
              "    <div class=\"colab-df-container\">\n",
              "      <div>\n",
              "<style scoped>\n",
              "    .dataframe tbody tr th:only-of-type {\n",
              "        vertical-align: middle;\n",
              "    }\n",
              "\n",
              "    .dataframe tbody tr th {\n",
              "        vertical-align: top;\n",
              "    }\n",
              "\n",
              "    .dataframe thead th {\n",
              "        text-align: right;\n",
              "    }\n",
              "</style>\n",
              "<table border=\"1\" class=\"dataframe\">\n",
              "  <thead>\n",
              "    <tr style=\"text-align: right;\">\n",
              "      <th></th>\n",
              "      <th>id</th>\n",
              "      <th>keyword</th>\n",
              "      <th>location</th>\n",
              "      <th>text</th>\n",
              "      <th>target</th>\n",
              "    </tr>\n",
              "  </thead>\n",
              "  <tbody>\n",
              "    <tr>\n",
              "      <th>0</th>\n",
              "      <td>1</td>\n",
              "      <td>NaN</td>\n",
              "      <td>NaN</td>\n",
              "      <td>Our Deeds are the Reason of this #earthquake M...</td>\n",
              "      <td>1</td>\n",
              "    </tr>\n",
              "    <tr>\n",
              "      <th>1</th>\n",
              "      <td>4</td>\n",
              "      <td>NaN</td>\n",
              "      <td>NaN</td>\n",
              "      <td>Forest fire near La Ronge Sask. Canada</td>\n",
              "      <td>1</td>\n",
              "    </tr>\n",
              "    <tr>\n",
              "      <th>2</th>\n",
              "      <td>5</td>\n",
              "      <td>NaN</td>\n",
              "      <td>NaN</td>\n",
              "      <td>All residents asked to 'shelter in place' are ...</td>\n",
              "      <td>1</td>\n",
              "    </tr>\n",
              "    <tr>\n",
              "      <th>3</th>\n",
              "      <td>6</td>\n",
              "      <td>NaN</td>\n",
              "      <td>NaN</td>\n",
              "      <td>13,000 people receive #wildfires evacuation or...</td>\n",
              "      <td>1</td>\n",
              "    </tr>\n",
              "    <tr>\n",
              "      <th>4</th>\n",
              "      <td>7</td>\n",
              "      <td>NaN</td>\n",
              "      <td>NaN</td>\n",
              "      <td>Just got sent this photo from Ruby #Alaska as ...</td>\n",
              "      <td>1</td>\n",
              "    </tr>\n",
              "  </tbody>\n",
              "</table>\n",
              "</div>\n",
              "      <button class=\"colab-df-convert\" onclick=\"convertToInteractive('df-e8d9ee9d-48aa-45db-bef2-ba497c820e40')\"\n",
              "              title=\"Convert this dataframe to an interactive table.\"\n",
              "              style=\"display:none;\">\n",
              "        \n",
              "  <svg xmlns=\"http://www.w3.org/2000/svg\" height=\"24px\"viewBox=\"0 0 24 24\"\n",
              "       width=\"24px\">\n",
              "    <path d=\"M0 0h24v24H0V0z\" fill=\"none\"/>\n",
              "    <path d=\"M18.56 5.44l.94 2.06.94-2.06 2.06-.94-2.06-.94-.94-2.06-.94 2.06-2.06.94zm-11 1L8.5 8.5l.94-2.06 2.06-.94-2.06-.94L8.5 2.5l-.94 2.06-2.06.94zm10 10l.94 2.06.94-2.06 2.06-.94-2.06-.94-.94-2.06-.94 2.06-2.06.94z\"/><path d=\"M17.41 7.96l-1.37-1.37c-.4-.4-.92-.59-1.43-.59-.52 0-1.04.2-1.43.59L10.3 9.45l-7.72 7.72c-.78.78-.78 2.05 0 2.83L4 21.41c.39.39.9.59 1.41.59.51 0 1.02-.2 1.41-.59l7.78-7.78 2.81-2.81c.8-.78.8-2.07 0-2.86zM5.41 20L4 18.59l7.72-7.72 1.47 1.35L5.41 20z\"/>\n",
              "  </svg>\n",
              "      </button>\n",
              "      \n",
              "  <style>\n",
              "    .colab-df-container {\n",
              "      display:flex;\n",
              "      flex-wrap:wrap;\n",
              "      gap: 12px;\n",
              "    }\n",
              "\n",
              "    .colab-df-convert {\n",
              "      background-color: #E8F0FE;\n",
              "      border: none;\n",
              "      border-radius: 50%;\n",
              "      cursor: pointer;\n",
              "      display: none;\n",
              "      fill: #1967D2;\n",
              "      height: 32px;\n",
              "      padding: 0 0 0 0;\n",
              "      width: 32px;\n",
              "    }\n",
              "\n",
              "    .colab-df-convert:hover {\n",
              "      background-color: #E2EBFA;\n",
              "      box-shadow: 0px 1px 2px rgba(60, 64, 67, 0.3), 0px 1px 3px 1px rgba(60, 64, 67, 0.15);\n",
              "      fill: #174EA6;\n",
              "    }\n",
              "\n",
              "    [theme=dark] .colab-df-convert {\n",
              "      background-color: #3B4455;\n",
              "      fill: #D2E3FC;\n",
              "    }\n",
              "\n",
              "    [theme=dark] .colab-df-convert:hover {\n",
              "      background-color: #434B5C;\n",
              "      box-shadow: 0px 1px 3px 1px rgba(0, 0, 0, 0.15);\n",
              "      filter: drop-shadow(0px 1px 2px rgba(0, 0, 0, 0.3));\n",
              "      fill: #FFFFFF;\n",
              "    }\n",
              "  </style>\n",
              "\n",
              "      <script>\n",
              "        const buttonEl =\n",
              "          document.querySelector('#df-e8d9ee9d-48aa-45db-bef2-ba497c820e40 button.colab-df-convert');\n",
              "        buttonEl.style.display =\n",
              "          google.colab.kernel.accessAllowed ? 'block' : 'none';\n",
              "\n",
              "        async function convertToInteractive(key) {\n",
              "          const element = document.querySelector('#df-e8d9ee9d-48aa-45db-bef2-ba497c820e40');\n",
              "          const dataTable =\n",
              "            await google.colab.kernel.invokeFunction('convertToInteractive',\n",
              "                                                     [key], {});\n",
              "          if (!dataTable) return;\n",
              "\n",
              "          const docLinkHtml = 'Like what you see? Visit the ' +\n",
              "            '<a target=\"_blank\" href=https://colab.research.google.com/notebooks/data_table.ipynb>data table notebook</a>'\n",
              "            + ' to learn more about interactive tables.';\n",
              "          element.innerHTML = '';\n",
              "          dataTable['output_type'] = 'display_data';\n",
              "          await google.colab.output.renderOutput(dataTable, element);\n",
              "          const docLink = document.createElement('div');\n",
              "          docLink.innerHTML = docLinkHtml;\n",
              "          element.appendChild(docLink);\n",
              "        }\n",
              "      </script>\n",
              "    </div>\n",
              "  </div>\n",
              "  "
            ]
          },
          "metadata": {},
          "execution_count": 7
        }
      ],
      "source": [
        "data.head()"
      ]
    },
    {
      "cell_type": "code",
      "execution_count": null,
      "metadata": {
        "id": "f49NdWY23HvL"
      },
      "outputs": [],
      "source": [
        "from sklearn.model_selection import train_test_split\n",
        "\n",
        "train, test = train_test_split(data, test_size=0.3, random_state=42)"
      ]
    },
    {
      "cell_type": "markdown",
      "metadata": {
        "id": "YlLemInT3HvL"
      },
      "source": [
        "## Задание 1 (0.5 балла)\n",
        "\n",
        "Выведете на экран информацию о пропусках в данных. Если пропуски присутствуют заполните их пустой строкой."
      ]
    },
    {
      "cell_type": "code",
      "source": [
        "train.isna().sum()"
      ],
      "metadata": {
        "colab": {
          "base_uri": "https://localhost:8080/"
        },
        "id": "hKeLrf6GHBYF",
        "outputId": "c6035da3-d422-4079-eadc-ebade2c12efd"
      },
      "execution_count": null,
      "outputs": [
        {
          "output_type": "execute_result",
          "data": {
            "text/plain": [
              "id             0\n",
              "keyword       44\n",
              "location    1760\n",
              "text           0\n",
              "target         0\n",
              "dtype: int64"
            ]
          },
          "metadata": {},
          "execution_count": 9
        }
      ]
    },
    {
      "cell_type": "code",
      "source": [
        "train.fillna(value=\"\", inplace=True)"
      ],
      "metadata": {
        "id": "96aJxmkV4105"
      },
      "execution_count": null,
      "outputs": []
    },
    {
      "cell_type": "code",
      "source": [
        "test.isna().sum()"
      ],
      "metadata": {
        "colab": {
          "base_uri": "https://localhost:8080/"
        },
        "id": "W9CsOd4CDFcD",
        "outputId": "d2e78d11-7313-498a-d025-48c797d178af"
      },
      "execution_count": null,
      "outputs": [
        {
          "output_type": "execute_result",
          "data": {
            "text/plain": [
              "id            0\n",
              "keyword      17\n",
              "location    773\n",
              "text          0\n",
              "target        0\n",
              "dtype: int64"
            ]
          },
          "metadata": {},
          "execution_count": 11
        }
      ]
    },
    {
      "cell_type": "code",
      "source": [
        "test.fillna(value=\"\", inplace=True)"
      ],
      "metadata": {
        "id": "9ZOUxQxGHE2J"
      },
      "execution_count": null,
      "outputs": []
    },
    {
      "cell_type": "markdown",
      "source": [
        "Проверка, что пропуски заполнились"
      ],
      "metadata": {
        "id": "KC8Nnv6LHG1j"
      }
    },
    {
      "cell_type": "code",
      "source": [
        "train.isna().sum().any()"
      ],
      "metadata": {
        "colab": {
          "base_uri": "https://localhost:8080/"
        },
        "id": "Q4-5gLqLHKPk",
        "outputId": "fb054a00-acbf-4674-8edd-f69d11d8a6dd"
      },
      "execution_count": null,
      "outputs": [
        {
          "output_type": "execute_result",
          "data": {
            "text/plain": [
              "False"
            ]
          },
          "metadata": {},
          "execution_count": 13
        }
      ]
    },
    {
      "cell_type": "code",
      "source": [
        "test.isna().sum().any()"
      ],
      "metadata": {
        "colab": {
          "base_uri": "https://localhost:8080/"
        },
        "id": "3RP9QnQzHOGM",
        "outputId": "8b5b0790-283d-4cd9-811a-23e598087fd2"
      },
      "execution_count": null,
      "outputs": [
        {
          "output_type": "execute_result",
          "data": {
            "text/plain": [
              "False"
            ]
          },
          "metadata": {},
          "execution_count": 14
        }
      ]
    },
    {
      "cell_type": "markdown",
      "metadata": {
        "id": "A8CPBUal3HvL"
      },
      "source": [
        "## Задание 2 (1 балл)\n",
        "Давайте немного посмотрим на наши данные. Визуализируйте (где явно просят) или выведете информацию о следующем:\n",
        "\n",
        "1. Какое распределение классов в обучающей выборке?\n"
      ]
    },
    {
      "cell_type": "code",
      "source": [
        "train['target'].value_counts()"
      ],
      "metadata": {
        "colab": {
          "base_uri": "https://localhost:8080/"
        },
        "id": "xx-AF5o4PaHV",
        "outputId": "5f45a8af-a6af-45eb-8837-b220e60f157d"
      },
      "execution_count": null,
      "outputs": [
        {
          "output_type": "execute_result",
          "data": {
            "text/plain": [
              "0    3024\n",
              "1    2305\n",
              "Name: target, dtype: int64"
            ]
          },
          "metadata": {},
          "execution_count": 15
        }
      ]
    },
    {
      "cell_type": "markdown",
      "source": [
        "В обучающей выборке не сбалансированное распределение классов"
      ],
      "metadata": {
        "id": "LTaWUENsQCe9"
      }
    },
    {
      "cell_type": "markdown",
      "source": [
        "2. Посмотрите на колонку \"keyword\" - возьмите 10 наиболее встречающихся значений, постройте ступенчатую диаграмму распределения классов в зависимости от значения keyword, сделайте выводы."
      ],
      "metadata": {
        "id": "f08KScbP5q2y"
      }
    },
    {
      "cell_type": "code",
      "source": [
        "popular_keywords = train['keyword'].value_counts()[:10]\n",
        "popular_keywords"
      ],
      "metadata": {
        "id": "WSCb0htu5w_Y",
        "colab": {
          "base_uri": "https://localhost:8080/"
        },
        "outputId": "ceef3505-4677-4593-f9eb-a7c7c47d668e"
      },
      "execution_count": null,
      "outputs": [
        {
          "output_type": "execute_result",
          "data": {
            "text/plain": [
              "              44\n",
              "damage        36\n",
              "siren         35\n",
              "wreckage      34\n",
              "fatalities    33\n",
              "deluge        31\n",
              "refugees      30\n",
              "derail        30\n",
              "fear          30\n",
              "tsunami       30\n",
              "Name: keyword, dtype: int64"
            ]
          },
          "metadata": {},
          "execution_count": 16
        }
      ]
    },
    {
      "cell_type": "code",
      "source": [
        "sns.set(rc={'figure.figsize': (10, 6)})\n",
        "\n",
        "sns.histplot(data=train.loc[train['keyword'].isin(popular_keywords.index)], x='keyword', hue='target')"
      ],
      "metadata": {
        "colab": {
          "base_uri": "https://localhost:8080/",
          "height": 567
        },
        "id": "zElTiLuhTHFU",
        "outputId": "a7e91b3a-b218-4780-b0de-7b8288df0f35"
      },
      "execution_count": null,
      "outputs": [
        {
          "output_type": "execute_result",
          "data": {
            "text/plain": [
              "<Axes: xlabel='keyword', ylabel='Count'>"
            ]
          },
          "metadata": {},
          "execution_count": 17
        },
        {
          "output_type": "display_data",
          "data": {
            "text/plain": [
              "<Figure size 1000x600 with 1 Axes>"
            ],
            "image/png": "[encoded data removed]"
          },
          "metadata": {}
        }
      ]
    },
    {
      "cell_type": "markdown",
      "source": [
        "**Выводы**:\n",
        "\n",
        "Можно заметить, что, если в каком-то столбце доминирует класс, значит ключевое слово почти однозначно дает нам ответ на задачу\n",
        "\n",
        "Например, по ключевому слову wreckage с почти полной уверенностью (99.999%) можно утверждать, что текст принадлежит к положительному классу"
      ],
      "metadata": {
        "id": "l4al3g9E-P09"
      }
    },
    {
      "cell_type": "markdown",
      "metadata": {
        "id": "c006nNBP3HvM"
      },
      "source": [
        "## Задание 3 (0.5 балла)\n",
        "\n",
        "В этом задании предлагается объединить все три текстовых столбца в один (просто сконкатенировать cтроки) и убрать столбец с индексом."
      ]
    },
    {
      "cell_type": "code",
      "source": [
        "train.loc[[6590, 7122, 2769]]"
      ],
      "metadata": {
        "colab": {
          "base_uri": "https://localhost:8080/",
          "height": 143
        },
        "id": "GdF9gFmL-c0r",
        "outputId": "fdf87f28-d937-46b0-f1ee-5127ad57b326"
      },
      "execution_count": null,
      "outputs": [
        {
          "output_type": "execute_result",
          "data": {
            "text/plain": [
              "         id          keyword      location  \\\n",
              "6590   9436        survivors  Marietta, GA   \n",
              "7122  10203  violent%20storm                 \n",
              "2769   3980      devastation  Atlanta g.a.   \n",
              "\n",
              "                                                   text  target  \n",
              "6590  Stemming from my #Cubs talk- the team rosters ...       1  \n",
              "7122  If you were the NWS wth a rotating storm w/ a ...       1  \n",
              "2769  http://t.co/Gxgm1T3W0J From Devastation to Ela...       0  "
            ],
            "text/html": [
              "\n",
              "  <div id=\"df-033c7722-ab72-4151-a1a2-ec45e5e4f9bb\">\n",
              "    <div class=\"colab-df-container\">\n",
              "      <div>\n",
              "<style scoped>\n",
              "    .dataframe tbody tr th:only-of-type {\n",
              "        vertical-align: middle;\n",
              "    }\n",
              "\n",
              "    .dataframe tbody tr th {\n",
              "        vertical-align: top;\n",
              "    }\n",
              "\n",
              "    .dataframe thead th {\n",
              "        text-align: right;\n",
              "    }\n",
              "</style>\n",
              "<table border=\"1\" class=\"dataframe\">\n",
              "  <thead>\n",
              "    <tr style=\"text-align: right;\">\n",
              "      <th></th>\n",
              "      <th>id</th>\n",
              "      <th>keyword</th>\n",
              "      <th>location</th>\n",
              "      <th>text</th>\n",
              "      <th>target</th>\n",
              "    </tr>\n",
              "  </thead>\n",
              "  <tbody>\n",
              "    <tr>\n",
              "      <th>6590</th>\n",
              "      <td>9436</td>\n",
              "      <td>survivors</td>\n",
              "      <td>Marietta, GA</td>\n",
              "      <td>Stemming from my #Cubs talk- the team rosters ...</td>\n",
              "      <td>1</td>\n",
              "    </tr>\n",
              "    <tr>\n",
              "      <th>7122</th>\n",
              "      <td>10203</td>\n",
              "      <td>violent%20storm</td>\n",
              "      <td></td>\n",
              "      <td>If you were the NWS wth a rotating storm w/ a ...</td>\n",
              "      <td>1</td>\n",
              "    </tr>\n",
              "    <tr>\n",
              "      <th>2769</th>\n",
              "      <td>3980</td>\n",
              "      <td>devastation</td>\n",
              "      <td>Atlanta g.a.</td>\n",
              "      <td>http://t.co/Gxgm1T3W0J From Devastation to Ela...</td>\n",
              "      <td>0</td>\n",
              "    </tr>\n",
              "  </tbody>\n",
              "</table>\n",
              "</div>\n",
              "      <button class=\"colab-df-convert\" onclick=\"convertToInteractive('df-033c7722-ab72-4151-a1a2-ec45e5e4f9bb')\"\n",
              "              title=\"Convert this dataframe to an interactive table.\"\n",
              "              style=\"display:none;\">\n",
              "        \n",
              "  <svg xmlns=\"http://www.w3.org/2000/svg\" height=\"24px\"viewBox=\"0 0 24 24\"\n",
              "       width=\"24px\">\n",
              "    <path d=\"M0 0h24v24H0V0z\" fill=\"none\"/>\n",
              "    <path d=\"M18.56 5.44l.94 2.06.94-2.06 2.06-.94-2.06-.94-.94-2.06-.94 2.06-2.06.94zm-11 1L8.5 8.5l.94-2.06 2.06-.94-2.06-.94L8.5 2.5l-.94 2.06-2.06.94zm10 10l.94 2.06.94-2.06 2.06-.94-2.06-.94-.94-2.06-.94 2.06-2.06.94z\"/><path d=\"M17.41 7.96l-1.37-1.37c-.4-.4-.92-.59-1.43-.59-.52 0-1.04.2-1.43.59L10.3 9.45l-7.72 7.72c-.78.78-.78 2.05 0 2.83L4 21.41c.39.39.9.59 1.41.59.51 0 1.02-.2 1.41-.59l7.78-7.78 2.81-2.81c.8-.78.8-2.07 0-2.86zM5.41 20L4 18.59l7.72-7.72 1.47 1.35L5.41 20z\"/>\n",
              "  </svg>\n",
              "      </button>\n",
              "      \n",
              "  <style>\n",
              "    .colab-df-container {\n",
              "      display:flex;\n",
              "      flex-wrap:wrap;\n",
              "      gap: 12px;\n",
              "    }\n",
              "\n",
              "    .colab-df-convert {\n",
              "      background-color: #E8F0FE;\n",
              "      border: none;\n",
              "      border-radius: 50%;\n",
              "      cursor: pointer;\n",
              "      display: none;\n",
              "      fill: #1967D2;\n",
              "      height: 32px;\n",
              "      padding: 0 0 0 0;\n",
              "      width: 32px;\n",
              "    }\n",
              "\n",
              "    .colab-df-convert:hover {\n",
              "      background-color: #E2EBFA;\n",
              "      box-shadow: 0px 1px 2px rgba(60, 64, 67, 0.3), 0px 1px 3px 1px rgba(60, 64, 67, 0.15);\n",
              "      fill: #174EA6;\n",
              "    }\n",
              "\n",
              "    [theme=dark] .colab-df-convert {\n",
              "      background-color: #3B4455;\n",
              "      fill: #D2E3FC;\n",
              "    }\n",
              "\n",
              "    [theme=dark] .colab-df-convert:hover {\n",
              "      background-color: #434B5C;\n",
              "      box-shadow: 0px 1px 3px 1px rgba(0, 0, 0, 0.15);\n",
              "      filter: drop-shadow(0px 1px 2px rgba(0, 0, 0, 0.3));\n",
              "      fill: #FFFFFF;\n",
              "    }\n",
              "  </style>\n",
              "\n",
              "      <script>\n",
              "        const buttonEl =\n",
              "          document.querySelector('#df-033c7722-ab72-4151-a1a2-ec45e5e4f9bb button.colab-df-convert');\n",
              "        buttonEl.style.display =\n",
              "          google.colab.kernel.accessAllowed ? 'block' : 'none';\n",
              "\n",
              "        async function convertToInteractive(key) {\n",
              "          const element = document.querySelector('#df-033c7722-ab72-4151-a1a2-ec45e5e4f9bb');\n",
              "          const dataTable =\n",
              "            await google.colab.kernel.invokeFunction('convertToInteractive',\n",
              "                                                     [key], {});\n",
              "          if (!dataTable) return;\n",
              "\n",
              "          const docLinkHtml = 'Like what you see? Visit the ' +\n",
              "            '<a target=\"_blank\" href=https://colab.research.google.com/notebooks/data_table.ipynb>data table notebook</a>'\n",
              "            + ' to learn more about interactive tables.';\n",
              "          element.innerHTML = '';\n",
              "          dataTable['output_type'] = 'display_data';\n",
              "          await google.colab.output.renderOutput(dataTable, element);\n",
              "          const docLink = document.createElement('div');\n",
              "          docLink.innerHTML = docLinkHtml;\n",
              "          element.appendChild(docLink);\n",
              "        }\n",
              "      </script>\n",
              "    </div>\n",
              "  </div>\n",
              "  "
            ]
          },
          "metadata": {},
          "execution_count": 18
        }
      ]
    },
    {
      "cell_type": "code",
      "source": [
        "# TRAIN\n",
        "train_new = train.copy()\n",
        "train_new['text'] = train_new['keyword'] + ' ' + train_new['location'] + ' ' + train_new['text']\n",
        "train_new.drop(['id', 'keyword', 'location'], inplace=True, axis=1)\n",
        "\n",
        "# TEST\n",
        "test_new = test.copy()\n",
        "test_new['text'] = test_new['keyword'] + ' ' + test_new['location'] + ' ' + test_new['text']\n",
        "test_new.drop(['id', 'keyword', 'location'], inplace=True, axis=1)"
      ],
      "metadata": {
        "id": "lwwJKX_l-eoh"
      },
      "execution_count": null,
      "outputs": []
    },
    {
      "cell_type": "code",
      "source": [
        "train_new.loc[[6590, 7122, 2769]]"
      ],
      "metadata": {
        "colab": {
          "base_uri": "https://localhost:8080/",
          "height": 143
        },
        "id": "jk7P70XX_CpT",
        "outputId": "6c3ae131-5e2a-4d4c-bc01-4ddca756316e"
      },
      "execution_count": null,
      "outputs": [
        {
          "output_type": "execute_result",
          "data": {
            "text/plain": [
              "                                                   text  target\n",
              "6590  survivors Marietta, GA Stemming from my #Cubs ...       1\n",
              "7122  violent%20storm  If you were the NWS wth a rot...       1\n",
              "2769  devastation Atlanta g.a. http://t.co/Gxgm1T3W0...       0"
            ],
            "text/html": [
              "\n",
              "  <div id=\"df-9c1b0d2c-3f3e-48ab-b841-9e95b7a8c6f3\">\n",
              "    <div class=\"colab-df-container\">\n",
              "      <div>\n",
              "<style scoped>\n",
              "    .dataframe tbody tr th:only-of-type {\n",
              "        vertical-align: middle;\n",
              "    }\n",
              "\n",
              "    .dataframe tbody tr th {\n",
              "        vertical-align: top;\n",
              "    }\n",
              "\n",
              "    .dataframe thead th {\n",
              "        text-align: right;\n",
              "    }\n",
              "</style>\n",
              "<table border=\"1\" class=\"dataframe\">\n",
              "  <thead>\n",
              "    <tr style=\"text-align: right;\">\n",
              "      <th></th>\n",
              "      <th>text</th>\n",
              "      <th>target</th>\n",
              "    </tr>\n",
              "  </thead>\n",
              "  <tbody>\n",
              "    <tr>\n",
              "      <th>6590</th>\n",
              "      <td>survivors Marietta, GA Stemming from my #Cubs ...</td>\n",
              "      <td>1</td>\n",
              "    </tr>\n",
              "    <tr>\n",
              "      <th>7122</th>\n",
              "      <td>violent%20storm  If you were the NWS wth a rot...</td>\n",
              "      <td>1</td>\n",
              "    </tr>\n",
              "    <tr>\n",
              "      <th>2769</th>\n",
              "      <td>devastation Atlanta g.a. http://t.co/Gxgm1T3W0...</td>\n",
              "      <td>0</td>\n",
              "    </tr>\n",
              "  </tbody>\n",
              "</table>\n",
              "</div>\n",
              "      <button class=\"colab-df-convert\" onclick=\"convertToInteractive('df-9c1b0d2c-3f3e-48ab-b841-9e95b7a8c6f3')\"\n",
              "              title=\"Convert this dataframe to an interactive table.\"\n",
              "              style=\"display:none;\">\n",
              "        \n",
              "  <svg xmlns=\"http://www.w3.org/2000/svg\" height=\"24px\"viewBox=\"0 0 24 24\"\n",
              "       width=\"24px\">\n",
              "    <path d=\"M0 0h24v24H0V0z\" fill=\"none\"/>\n",
              "    <path d=\"M18.56 5.44l.94 2.06.94-2.06 2.06-.94-2.06-.94-.94-2.06-.94 2.06-2.06.94zm-11 1L8.5 8.5l.94-2.06 2.06-.94-2.06-.94L8.5 2.5l-.94 2.06-2.06.94zm10 10l.94 2.06.94-2.06 2.06-.94-2.06-.94-.94-2.06-.94 2.06-2.06.94z\"/><path d=\"M17.41 7.96l-1.37-1.37c-.4-.4-.92-.59-1.43-.59-.52 0-1.04.2-1.43.59L10.3 9.45l-7.72 7.72c-.78.78-.78 2.05 0 2.83L4 21.41c.39.39.9.59 1.41.59.51 0 1.02-.2 1.41-.59l7.78-7.78 2.81-2.81c.8-.78.8-2.07 0-2.86zM5.41 20L4 18.59l7.72-7.72 1.47 1.35L5.41 20z\"/>\n",
              "  </svg>\n",
              "      </button>\n",
              "      \n",
              "  <style>\n",
              "    .colab-df-container {\n",
              "      display:flex;\n",
              "      flex-wrap:wrap;\n",
              "      gap: 12px;\n",
              "    }\n",
              "\n",
              "    .colab-df-convert {\n",
              "      background-color: #E8F0FE;\n",
              "      border: none;\n",
              "      border-radius: 50%;\n",
              "      cursor: pointer;\n",
              "      display: none;\n",
              "      fill: #1967D2;\n",
              "      height: 32px;\n",
              "      padding: 0 0 0 0;\n",
              "      width: 32px;\n",
              "    }\n",
              "\n",
              "    .colab-df-convert:hover {\n",
              "      background-color: #E2EBFA;\n",
              "      box-shadow: 0px 1px 2px rgba(60, 64, 67, 0.3), 0px 1px 3px 1px rgba(60, 64, 67, 0.15);\n",
              "      fill: #174EA6;\n",
              "    }\n",
              "\n",
              "    [theme=dark] .colab-df-convert {\n",
              "      background-color: #3B4455;\n",
              "      fill: #D2E3FC;\n",
              "    }\n",
              "\n",
              "    [theme=dark] .colab-df-convert:hover {\n",
              "      background-color: #434B5C;\n",
              "      box-shadow: 0px 1px 3px 1px rgba(0, 0, 0, 0.15);\n",
              "      filter: drop-shadow(0px 1px 2px rgba(0, 0, 0, 0.3));\n",
              "      fill: #FFFFFF;\n",
              "    }\n",
              "  </style>\n",
              "\n",
              "      <script>\n",
              "        const buttonEl =\n",
              "          document.querySelector('#df-9c1b0d2c-3f3e-48ab-b841-9e95b7a8c6f3 button.colab-df-convert');\n",
              "        buttonEl.style.display =\n",
              "          google.colab.kernel.accessAllowed ? 'block' : 'none';\n",
              "\n",
              "        async function convertToInteractive(key) {\n",
              "          const element = document.querySelector('#df-9c1b0d2c-3f3e-48ab-b841-9e95b7a8c6f3');\n",
              "          const dataTable =\n",
              "            await google.colab.kernel.invokeFunction('convertToInteractive',\n",
              "                                                     [key], {});\n",
              "          if (!dataTable) return;\n",
              "\n",
              "          const docLinkHtml = 'Like what you see? Visit the ' +\n",
              "            '<a target=\"_blank\" href=https://colab.research.google.com/notebooks/data_table.ipynb>data table notebook</a>'\n",
              "            + ' to learn more about interactive tables.';\n",
              "          element.innerHTML = '';\n",
              "          dataTable['output_type'] = 'display_data';\n",
              "          await google.colab.output.renderOutput(dataTable, element);\n",
              "          const docLink = document.createElement('div');\n",
              "          docLink.innerHTML = docLinkHtml;\n",
              "          element.appendChild(docLink);\n",
              "        }\n",
              "      </script>\n",
              "    </div>\n",
              "  </div>\n",
              "  "
            ]
          },
          "metadata": {},
          "execution_count": 20
        }
      ]
    },
    {
      "cell_type": "markdown",
      "metadata": {
        "id": "ViXdGTxP3HvM"
      },
      "source": [
        "## Задание 4 (0.5 балла)\n",
        "\n",
        "Далее мы будем пока работать только с train частью.\n",
        "\n",
        "1. Предобработайте данные (train часть) с помощью CountVectorizer.\n",
        "2. Какого размера получилась матрица?\n"
      ]
    },
    {
      "cell_type": "code",
      "source": [
        "from sklearn.feature_extraction.text import CountVectorizer\n",
        "\n",
        "cnt_vec = CountVectorizer()\n",
        "X = cnt_vec.fit_transform(train_new['text'])"
      ],
      "metadata": {
        "id": "oB1MTqUVAbPA"
      },
      "execution_count": null,
      "outputs": []
    },
    {
      "cell_type": "code",
      "source": [
        "print(\"Размеры матрицы:\")\n",
        "X.toarray().shape"
      ],
      "metadata": {
        "colab": {
          "base_uri": "https://localhost:8080/"
        },
        "id": "ttFXle5uyktW",
        "outputId": "b4bdfbcd-8fda-4551-9601-8184f2b6f55a"
      },
      "execution_count": null,
      "outputs": [
        {
          "output_type": "stream",
          "name": "stdout",
          "text": [
            "Размеры матрицы:\n"
          ]
        },
        {
          "output_type": "execute_result",
          "data": {
            "text/plain": [
              "(5329, 18455)"
            ]
          },
          "metadata": {},
          "execution_count": 22
        }
      ]
    },
    {
      "cell_type": "markdown",
      "metadata": {
        "id": "A4waLlnC3HvM"
      },
      "source": [
        "## Задание 5 (1 балл)\n",
        "\n",
        "В предыдущем пункте у вас должна была получиться достаточно большая матрица.\n",
        "Если вы взгляните на текст, то увидете, что там есть множество специальных символов, ссылок и прочего мусора.\n",
        "\n",
        "Давайте также посмотрим на словарь, который получился в результате построения CountVectorizer, его можно найти в поле vocabulary_ инстанса этого класса. Давайте напишем функцию, которая печает ответы на следующие вопросы:\n",
        "\n",
        "1. Найдите в этом словаре все слова, которые содержат цифры. Сколько таких слов нашлось?\n",
        "\n",
        "2. Найдите все слова, которые содержат символы пунктуации. Сколько таких слов нашлось?\n",
        "\n",
        "3. Сколько хэштегов (токен начинается на #) и упоминаний (токен начинается на @) осталось в словаре?"
      ]
    },
    {
      "cell_type": "code",
      "source": [
        "cnt_vec.vocabulary_.keys()"
      ],
      "metadata": {
        "id": "08HoMoCmzDxD"
      },
      "execution_count": null,
      "outputs": []
    },
    {
      "cell_type": "code",
      "source": [
        "from string import punctuation, digits"
      ],
      "metadata": {
        "id": "8ADlG5cNV-fz"
      },
      "execution_count": null,
      "outputs": []
    },
    {
      "cell_type": "code",
      "source": [
        "def contains_digit(s: str) -> bool:\n",
        "    for element in digits:\n",
        "        if element in s:\n",
        "            return True\n",
        "    return False\n",
        "\n",
        "def contains_punctuation(s: str) -> bool:\n",
        "    for element in punctuation:\n",
        "        if element in s:\n",
        "            return True\n",
        "    return False\n",
        "\n",
        "def is_hashtag(s: str) -> bool:\n",
        "    return s.startswith('#')\n",
        "\n",
        "def is_mention(s: str) -> bool:\n",
        "    return s.startswith('@')\n",
        "\n",
        "def investigate_vocabulary(vocabulary):\n",
        "    cnt_digits = 0\n",
        "    cnt_punct = 0\n",
        "    cnt_hashtags = 0\n",
        "    cnt_mentions = 0\n",
        "    for token in vocabulary.keys():\n",
        "        if contains_digit(token):\n",
        "            cnt_digits += 1\n",
        "        if contains_punctuation(token):\n",
        "            cnt_punct += 1\n",
        "        if is_hashtag(token):\n",
        "            cnt_hashtags += 1\n",
        "        if is_mention(token):\n",
        "            cnt_mentions += 1\n",
        "\n",
        "    print('With digit:      ', cnt_digits)\n",
        "    print('With punctuation:', cnt_punct)\n",
        "    print('Hashtags:        ', cnt_hashtags)\n",
        "    print('Mentions:        ', cnt_mentions)"
      ],
      "metadata": {
        "id": "7PhQSWqcHhU8"
      },
      "execution_count": null,
      "outputs": []
    },
    {
      "cell_type": "code",
      "source": [
        "dummy_vocab = {'th1nk' : 0,\n",
        "               'think333' : 1,\n",
        "               'think.' : 2,\n",
        "               'th!nk' : 3,\n",
        "               'th...nk' : 4,\n",
        "               '#think' : 5,\n",
        "               '@think' : 6,\n",
        "               '@thinking':7,\n",
        "               '@nothink' : 8,\n",
        "               'think' : 9}\n",
        "investigate_vocabulary(dummy_vocab)"
      ],
      "metadata": {
        "colab": {
          "base_uri": "https://localhost:8080/"
        },
        "id": "s8hL5ZcQIdp6",
        "outputId": "06b22aa3-046a-4b60-dbec-d21bf653567f"
      },
      "execution_count": null,
      "outputs": [
        {
          "output_type": "stream",
          "name": "stdout",
          "text": [
            "With digit:       2\n",
            "With punctuation: 7\n",
            "Hashtags:         1\n",
            "Mentions:         3\n"
          ]
        }
      ]
    },
    {
      "cell_type": "code",
      "source": [
        "investigate_vocabulary(cnt_vec.vocabulary_)"
      ],
      "metadata": {
        "id": "VpW8R_SuKR_l",
        "colab": {
          "base_uri": "https://localhost:8080/"
        },
        "outputId": "ab587122-aff8-48a2-b2e9-267c0ec2fa5a"
      },
      "execution_count": null,
      "outputs": [
        {
          "output_type": "stream",
          "name": "stdout",
          "text": [
            "With digit:       3812\n",
            "With punctuation: 315\n",
            "Hashtags:         0\n",
            "Mentions:         0\n"
          ]
        }
      ]
    },
    {
      "cell_type": "markdown",
      "metadata": {
        "id": "bfNLaxX93HvM"
      },
      "source": [
        "## Задание 6 (0.5 балла)\n",
        "\n",
        "Вспомним, что на семинаре по текстам мы узнали, что в nltk есть специальный токенизатор для текстов - TweetTokenizer. Попробуем применить CountVectorizer с этим токенизатором. Ответьте на все вопросы из предыдущего пункта для TweetTokenizer и сравните результаты."
      ]
    },
    {
      "cell_type": "code",
      "execution_count": null,
      "metadata": {
        "id": "xnlRoXUS3HvM"
      },
      "outputs": [],
      "source": [
        "from nltk.tokenize import TweetTokenizer\n",
        "# Чтобы узнать, какие параметры есть у этого токенайзера - используйте help(TweetTokenizer)\n",
        "# Для того, чтобы передать токенайзер в CountVectorizer используйте параметр tokenizer"
      ]
    },
    {
      "cell_type": "code",
      "source": [
        "help(TweetTokenizer)"
      ],
      "metadata": {
        "id": "HSCJ6lLRZnKA"
      },
      "execution_count": null,
      "outputs": []
    },
    {
      "cell_type": "code",
      "source": [
        "cnt_vec2 = CountVectorizer(tokenizer=TweetTokenizer().tokenize)\n",
        "\n",
        "X_tweet = cnt_vec2.fit_transform(train_new['text'])\n",
        "X_tweet.toarray().shape"
      ],
      "metadata": {
        "colab": {
          "base_uri": "https://localhost:8080/"
        },
        "id": "PDGPRftZd-n9",
        "outputId": "713729d2-d237-4e1c-a629-4829017e9549"
      },
      "execution_count": null,
      "outputs": [
        {
          "output_type": "execute_result",
          "data": {
            "text/plain": [
              "(5329, 19670)"
            ]
          },
          "metadata": {},
          "execution_count": 69
        }
      ]
    },
    {
      "cell_type": "code",
      "source": [
        "investigate_vocabulary(cnt_vec2.vocabulary_)"
      ],
      "metadata": {
        "id": "7oR5kNKVLLpm",
        "colab": {
          "base_uri": "https://localhost:8080/"
        },
        "outputId": "913937f3-1711-4520-e250-f535d8e7807f"
      },
      "execution_count": null,
      "outputs": [
        {
          "output_type": "stream",
          "name": "stdout",
          "text": [
            "With digit:       3939\n",
            "With punctuation: 7338\n",
            "Hashtags:         1470\n",
            "Mentions:         1679\n"
          ]
        }
      ]
    },
    {
      "cell_type": "markdown",
      "source": [
        "***Сравнение:***\n",
        "\n",
        "Способ с токенизатором для твитом по показателям нахождения слов с цифрами, пунктуацией, хэштегами и упоминаниями показал более высокую точность (с учетом того что первый вариант решения вообще не нашел в тексте хэштеги и упоминания). В данной задаче очевидно, что нужно использовать 2 вариант"
      ],
      "metadata": {
        "id": "Wetr80-ILULV"
      }
    },
    {
      "cell_type": "markdown",
      "metadata": {
        "id": "6_k_-i1x3HvM"
      },
      "source": [
        "## Задание 7 (2 балла)\n",
        "\n",
        "В scikit-learn мы можем оценивать процесс подсчета матрицы через CountVectorizer. У CountVectorizer, как и у других наследников \\_VectorizerMixin, есть аргумент tokenizer и preprocessor. preprocessor применится в самом начале к каждой строке вашего датасета, tokenizer же должен принять строку и вернуть токены.\n",
        "Давайте напишем кастомный токенайзер, которые сделает все, что нам нужно:\n",
        "\n",
        "0. Приведет все буквы к нижнему регистру\n",
        "1. Разобьет текст на токены с помощью TweetTokenizer из пакета nltk\n",
        "2. Удалит все токены содержащие не латинские буквы, кроме смайликов (будем считать ими токены содержащие только пунктуацию и, как минимум, одну скобочку) и хэштегов, которые после начальной # содержат только латинские буквы.\n",
        "3. Удалит все токены, которые перечислены в nltk.corpus.stopwords.words('english')\n",
        "4. Проведет стемминг с помощью SnowballStemmer\n",
        "\n"
      ]
    },
    {
      "cell_type": "code",
      "source": [
        "import nltk\n",
        "from nltk.stem.snowball import SnowballStemmer\n",
        "from string import ascii_letters\n",
        "\n",
        "nltk.download('stopwords')"
      ],
      "metadata": {
        "colab": {
          "base_uri": "https://localhost:8080/"
        },
        "id": "IdnQ_p1ZjfYB",
        "outputId": "81d3cc47-cdd7-480f-e013-5ed39483151f"
      },
      "execution_count": null,
      "outputs": [
        {
          "output_type": "stream",
          "name": "stderr",
          "text": [
            "[nltk_data] Downloading package stopwords to /root/nltk_data...\n",
            "[nltk_data]   Package stopwords is already up-to-date!\n"
          ]
        },
        {
          "output_type": "execute_result",
          "data": {
            "text/plain": [
              "True"
            ]
          },
          "metadata": {},
          "execution_count": 81
        }
      ]
    },
    {
      "cell_type": "code",
      "source": [
        "stopwords = nltk.corpus.stopwords.words('english')"
      ],
      "metadata": {
        "id": "ezcbaEYVl8re"
      },
      "execution_count": null,
      "outputs": []
    },
    {
      "cell_type": "code",
      "source": [
        "def contains_only_latin_letters(s: str) -> bool:\n",
        "    for symbol in s:\n",
        "        if symbol not in ascii_letters:\n",
        "            return False\n",
        "    return True\n",
        "\n",
        "def is_emoji(s: str) -> bool:\n",
        "    has_parenthese = False\n",
        "    parentheses = ['(', ')']\n",
        "    for symbol in s:\n",
        "        if symbol in parentheses:\n",
        "            has_parenthese = True\n",
        "        if symbol not in punctuation:\n",
        "            return False\n",
        "    return has_parenthese\n",
        "\n",
        "def is_hashtag(s: str) -> bool:\n",
        "    return s[0] == '#' and contains_only_latin_letters(s[1:])\n",
        "\n",
        "def custom_tokenizer(s: str) -> List[str]:\n",
        "    s = s.lower()\n",
        "\n",
        "    stemmer = SnowballStemmer(\"english\")\n",
        "    tw = TweetTokenizer()\n",
        "    tokens = tw.tokenize(s)\n",
        "\n",
        "    res_tokens = []\n",
        "    for token in tokens:\n",
        "        if (contains_only_latin_letters(token) or \\\n",
        "                            is_emoji(token) or  \\\n",
        "                            is_hashtag(token)) and \\\n",
        "                            token not in stopwords:\n",
        "            res_tokens.append(stemmer.stem(token))\n",
        "    return res_tokens"
      ],
      "metadata": {
        "id": "qhwmi7DEMD25"
      },
      "execution_count": null,
      "outputs": []
    },
    {
      "cell_type": "code",
      "source": [
        "custom_tokenizer('She LOVES painting :-) #art')"
      ],
      "metadata": {
        "colab": {
          "base_uri": "https://localhost:8080/"
        },
        "id": "vYzPZzf8O6vj",
        "outputId": "314eb154-0198-4808-94c1-c6e4a9555c7f"
      },
      "execution_count": null,
      "outputs": [
        {
          "output_type": "execute_result",
          "data": {
            "text/plain": [
              "['love', 'paint', ':-)', '#art']"
            ]
          },
          "metadata": {},
          "execution_count": 93
        }
      ]
    },
    {
      "cell_type": "markdown",
      "source": [
        "Продемонстрируйте работу вашей функции на первых десяти текстах в обучающей выборке."
      ],
      "metadata": {
        "id": "2S_-ThAf5It4"
      }
    },
    {
      "cell_type": "code",
      "source": [
        "for text in train_new['text'][:10]:\n",
        "    print(custom_tokenizer(text))"
      ],
      "metadata": {
        "id": "A1fh3_itPz7D",
        "colab": {
          "base_uri": "https://localhost:8080/"
        },
        "outputId": "97ed50b4-5173-4e0c-b671-248c5d55b738"
      },
      "execution_count": null,
      "outputs": [
        {
          "output_type": "stream",
          "name": "stdout",
          "text": [
            "['bridg', 'ash', 'australia', 'collaps', 'trent', 'bridg', 'among', 'worst', 'histori', 'england', 'bundl', 'australia']\n",
            "['hail', 'carol', 'stream', 'illinoi', 'great', 'michigan', 'techniqu', 'camp', 'thank', '#goblu', '#wrestleon']\n",
            "['polic', 'houston', 'cnn', 'tennesse', 'movi', 'theater', 'shoot', 'suspect', 'kill', 'polic']\n",
            "['riot', 'still', 'riot', 'coupl', 'hour', 'left', 'class']\n",
            "['wound', 'lake', 'highland', 'crack', 'path', 'wipe', 'morn', 'beach', 'run', 'surfac', 'wound', 'left', 'elbow', 'right', 'knee']\n",
            "['airplan', 'somewher', 'expert', 'franc', 'begin', 'examin', 'airplan', 'debri', 'found', 'reunion', 'island', 'french', 'air', 'accid', 'expert', '#mlb']\n",
            "['bloodi', 'isol', 'citi', 'world', 'perth', 'came', 'kill', 'indian', 'fun', 'video', 'smirk', 'remorseless', 'pakistani', 'killer', 'show', 'boast']\n",
            "['burn', 'except', 'idk', 'realli', 'burn']\n",
            "['destroy', '(', 'ask', ')', 'destroy', 'hous']\n",
            "['wound', 'maracay', 'nirgua', 'venezuela', 'polic', 'offic', 'wound', 'suspect', 'dead', 'exchang', 'shot']\n"
          ]
        }
      ]
    },
    {
      "cell_type": "markdown",
      "metadata": {
        "id": "a5lNZ4tb3HvN"
      },
      "source": [
        "## Задание 8 (1 балл)\n",
        "\n",
        "1. Примените CountVectorizer с реализованным выше токенизатором к обучающим и тестовым выборкам.\n"
      ]
    },
    {
      "cell_type": "code",
      "source": [
        "vectorizer = CountVectorizer(tokenizer=custom_tokenizer)\n",
        "\n",
        "bow_train = vectorizer.fit_transform(train_new['text'])  # bow — bag of words (мешок слов)\n",
        "bow_test = vectorizer.transform(test_new['text'])"
      ],
      "metadata": {
        "colab": {
          "base_uri": "https://localhost:8080/"
        },
        "id": "DxLB10n_oPIJ",
        "outputId": "4343c6f4-e29b-4886-b6f2-3842fe0ed045"
      },
      "execution_count": null,
      "outputs": [
        {
          "output_type": "stream",
          "name": "stderr",
          "text": [
            "/usr/local/lib/python3.10/dist-packages/sklearn/feature_extraction/text.py:528: UserWarning: The parameter 'token_pattern' will not be used since 'tokenizer' is not None'\n",
            "  warnings.warn(\n"
          ]
        }
      ]
    },
    {
      "cell_type": "markdown",
      "source": [
        "2. Обучите LogisticRegression на полученных признаках.\n"
      ],
      "metadata": {
        "id": "YcetwuEi5ds9"
      }
    },
    {
      "cell_type": "code",
      "source": [
        "from sklearn.linear_model import LogisticRegression\n",
        "from sklearn.preprocessing import MaxAbsScaler"
      ],
      "metadata": {
        "id": "4mJOb9pXqg0G"
      },
      "execution_count": null,
      "outputs": []
    },
    {
      "cell_type": "code",
      "source": [
        "y_train, y_test = train_new.target, test_new.target"
      ],
      "metadata": {
        "id": "cV9AXDforrCY"
      },
      "execution_count": null,
      "outputs": []
    },
    {
      "cell_type": "code",
      "source": [
        "scaler = MaxAbsScaler()\n",
        "bow_train = scaler.fit_transform(bow_train)\n",
        "bow_test = scaler.transform(bow_test)\n",
        "\n",
        "clf = LogisticRegression(max_iter=100, random_state=42)\n",
        "clf.fit(bow_train, y_train)\n",
        "pred = clf.predict(bow_test)"
      ],
      "metadata": {
        "id": "LDqixz7QQEbn"
      },
      "execution_count": null,
      "outputs": []
    },
    {
      "cell_type": "markdown",
      "source": [
        "3. Посчитайте метрику f1-score на тестовых данных."
      ],
      "metadata": {
        "id": "6Ch6uz2P5e-T"
      }
    },
    {
      "cell_type": "code",
      "source": [
        "from sklearn.metrics import f1_score\n",
        "\n",
        "print('F1 score:', f1_score(y_test, pred))"
      ],
      "metadata": {
        "colab": {
          "base_uri": "https://localhost:8080/"
        },
        "id": "osyC0pdT3cSD",
        "outputId": "b11bee0e-aee6-4a11-b31d-b74d10d0ad12"
      },
      "execution_count": null,
      "outputs": [
        {
          "output_type": "stream",
          "name": "stdout",
          "text": [
            "F1 score: 0.7440310938367575\n"
          ]
        }
      ]
    },
    {
      "cell_type": "markdown",
      "metadata": {
        "id": "aFIEYOMZ3HvN"
      },
      "source": [
        "## Задание 9 (1 балл)\n",
        "\n",
        "1. Повторите 8 задание, но с tf-idf векторизатором. Как изменилось качество?\n"
      ]
    },
    {
      "cell_type": "code",
      "source": [
        "from sklearn.feature_extraction.text import TfidfVectorizer\n",
        "\n",
        "vec = TfidfVectorizer()\n",
        "vec_train = vec.fit_transform(train_new['text'])\n",
        "print(\"Shape of train matrix =\", vec_train.shape)\n",
        "vec_test = vec.transform(test_new['text'])\n",
        "\n",
        "scaler = MaxAbsScaler()\n",
        "vec_train = scaler.fit_transform(vec_train)\n",
        "vec_test = scaler.transform(vec_test)\n",
        "\n",
        "clf = LogisticRegression(max_iter=100, random_state=42)\n",
        "clf.fit(vec_train, y_train)\n",
        "pred_tfidf = clf.predict(vec_test)\n",
        "\n",
        "print('F1 score:', f1_score(y_test, pred_tfidf))"
      ],
      "metadata": {
        "colab": {
          "base_uri": "https://localhost:8080/"
        },
        "id": "cDqs61hl3ve3",
        "outputId": "0c5f455b-f05a-42d6-dbb7-1763ccbb26e4"
      },
      "execution_count": null,
      "outputs": [
        {
          "output_type": "stream",
          "name": "stdout",
          "text": [
            "Shape of train matrix = (5329, 18455)\n",
            "F1 score: 0.7470651013874066\n"
          ]
        }
      ]
    },
    {
      "cell_type": "markdown",
      "source": [
        "1. **Ответ:** качество модели с TF-IDF векторизатором немного увеличилось, то есть в рамках данной задаче важность слова конкретного текста играет (хоть и небольшую) роль при выдаче предсказаний."
      ],
      "metadata": {
        "id": "SXaNclTZSFjO"
      }
    },
    {
      "cell_type": "markdown",
      "source": [
        "2. Мы можем еще сильнее уменьшить размер нашей матрицы, если отбросим значения df близкие к единице. Скорее всего такие слова не несут много информации о категории, так как встречаются достаточно часто. Ограничьте максимальный df в параметрах TfIdfVectorizer, поставьте верхнюю границу равную 0.9. Как изменился размер матрицы, как изменилось качество?\n"
      ],
      "metadata": {
        "id": "CPtk0lCA5POY"
      }
    },
    {
      "cell_type": "code",
      "source": [
        "vec = TfidfVectorizer(max_df=0.9)\n",
        "vec_train = vec.fit_transform(train_new['text'])\n",
        "print(\"Shape of train matrix =\", vec_train.shape)\n",
        "vec_test = vec.transform(test_new['text'])\n",
        "\n",
        "scaler = MaxAbsScaler()\n",
        "vec_train = scaler.fit_transform(vec_train)\n",
        "vec_test = scaler.transform(vec_test)\n",
        "\n",
        "clf = LogisticRegression(max_iter=100, random_state=42)\n",
        "clf.fit(vec_train, y_train)\n",
        "pred_tfidf = clf.predict(vec_test)\n",
        "\n",
        "print('F1 score:', f1_score(y_test, pred_tfidf))"
      ],
      "metadata": {
        "colab": {
          "base_uri": "https://localhost:8080/"
        },
        "id": "EU-MRXyRSHLm",
        "outputId": "f787e3bf-ce83-433c-a231-1e13a814981e"
      },
      "execution_count": null,
      "outputs": [
        {
          "output_type": "stream",
          "name": "stdout",
          "text": [
            "Shape of train matrix = (5329, 18455)\n",
            "F1 score: 0.7470651013874066\n"
          ]
        }
      ]
    },
    {
      "cell_type": "markdown",
      "source": [
        "2. **Ответ:** Ничего не изменилось, следовательно в матрице отсутсвуют значения, для которых df > 0.9"
      ],
      "metadata": {
        "id": "4Two_O3rSVmh"
      }
    },
    {
      "cell_type": "markdown",
      "source": [
        "3. Также мы можем уменьшить размер матрицы, удаляя слова со слишком маленьким df. Удалось ли добиться улучшения качества?"
      ],
      "metadata": {
        "id": "VhyjbI5X5QnG"
      }
    },
    {
      "cell_type": "code",
      "source": [
        "vec = TfidfVectorizer(min_df=0.01, max_df=0.9)\n",
        "vec_train = vec.fit_transform(train_new['text'])\n",
        "print(\"Shape of train matrix =\", vec_train.shape)\n",
        "vec_test = vec.transform(test_new['text'])\n",
        "\n",
        "scaler = MaxAbsScaler()\n",
        "vec_train = scaler.fit_transform(vec_train)\n",
        "vec_test = scaler.transform(vec_test)\n",
        "\n",
        "clf = LogisticRegression(max_iter=100, random_state=42)\n",
        "clf.fit(vec_train, y_train)\n",
        "pred_tfidf = clf.predict(vec_test)\n",
        "\n",
        "print('F1 score:', f1_score(y_test, pred_tfidf))"
      ],
      "metadata": {
        "colab": {
          "base_uri": "https://localhost:8080/"
        },
        "id": "9mNpIxv6SfKc",
        "outputId": "97760ffb-5efa-4c4c-c55d-9cdb2e9de854"
      },
      "execution_count": null,
      "outputs": [
        {
          "output_type": "stream",
          "name": "stdout",
          "text": [
            "Shape of train matrix = (5329, 171)\n",
            "F1 score: 0.6632710809281268\n"
          ]
        }
      ]
    },
    {
      "cell_type": "markdown",
      "source": [
        "3. **Ответ:** при ограничении нижней границы параметрами 0.1, 0.01, 0.001 также не удалось добиться улучшения качества модели"
      ],
      "metadata": {
        "id": "imeD8skxSqdg"
      }
    },
    {
      "cell_type": "markdown",
      "metadata": {
        "id": "1l1sx4nB3HvN"
      },
      "source": [
        "## Задание 10 (1 балл)\n",
        "\n",
        "Еще один популяпный трюк, который позволит уменьшить количество признаков называется hashing trick. Его суть в том, то мы случайно группируем признаки ииии  ..... складываем их! А потом удаляем исходные признаки. В итоге все наши признаки это просто суммы исходных. Звучит странно, но это отлично работает. Давайте проверим этот трюк в нашем сеттинге.\n",
        "Также при таком подходе вам не нужно хранить словарь token->index, что тоже иногда полезно.\n",
        "\n",
        "1. Повторите задание 8 с HashingVectorizer, укажите количество фичей равное 5000.\n"
      ]
    },
    {
      "cell_type": "code",
      "source": [
        "from sklearn.feature_extraction.text import HashingVectorizer\n",
        "\n",
        "hash_vectorizer = HashingVectorizer(tokenizer=custom_tokenizer, n_features=5_000)\n",
        "\n",
        "bow_train = hash_vectorizer.fit_transform(train_new['text'])  # bow — bag of words (мешок слов)\n",
        "bow_test = hash_vectorizer.transform(test_new['text'])\n",
        "scaler = MaxAbsScaler()\n",
        "bow_train = scaler.fit_transform(bow_train)\n",
        "bow_test = scaler.transform(bow_test)\n",
        "\n",
        "clf = LogisticRegression(max_iter=100, random_state=42)\n",
        "clf.fit(bow_train, y_train)\n",
        "pred = clf.predict(bow_test)\n",
        "\n",
        "print('F1 score:', f1_score(y_test, pred))"
      ],
      "metadata": {
        "colab": {
          "base_uri": "https://localhost:8080/"
        },
        "id": "8qSoW894RXxz",
        "outputId": "178d25fc-4917-4a9f-95ee-5bca773eeeff"
      },
      "execution_count": null,
      "outputs": [
        {
          "output_type": "stream",
          "name": "stderr",
          "text": [
            "/usr/local/lib/python3.10/dist-packages/sklearn/feature_extraction/text.py:528: UserWarning: The parameter 'token_pattern' will not be used since 'tokenizer' is not None'\n",
            "  warnings.warn(\n"
          ]
        },
        {
          "output_type": "stream",
          "name": "stdout",
          "text": [
            "F1 score: 0.7329729729729729\n"
          ]
        }
      ]
    },
    {
      "cell_type": "markdown",
      "source": [
        "2. Какой из подходов показал самый высокий результат?"
      ],
      "metadata": {
        "id": "1C3I4ceg6AG-"
      }
    },
    {
      "cell_type": "markdown",
      "source": [
        "2. **Ответ:** модель с TF-IDF векторизатором показала самый высокий результатБ при котором f-мера достигала 75%"
      ],
      "metadata": {
        "id": "_bIfyVlOS9Lu"
      }
    },
    {
      "cell_type": "markdown",
      "metadata": {
        "id": "zylJ6l0R3HvN"
      },
      "source": [
        "## Задание 11 (1 балл)\n",
        "\n",
        "В этом задании нужно добиться f1 меры хотя в 0.75 на тестовых данных."
      ]
    },
    {
      "cell_type": "code",
      "source": [
        "vec = CountVectorizer(ngram_range=(1, 1))\n",
        "vec_train = vec.fit_transform(train_new['text'])\n",
        "print(\"Shape of train matrix =\", vec_train.shape)\n",
        "vec_test = vec.transform(test_new['text'])\n",
        "\n",
        "scaler = MaxAbsScaler()\n",
        "vec_train = scaler.fit_transform(vec_train)\n",
        "vec_test = scaler.transform(vec_test)\n",
        "\n",
        "clf = LogisticRegression(max_iter=100, random_state=49)\n",
        "clf.fit(vec_train, y_train)\n",
        "pred = clf.predict(vec_test)\n",
        "\n",
        "print('F1 score:', f1_score(y_test, pred))"
      ],
      "metadata": {
        "id": "GSTVApFeS-OY",
        "colab": {
          "base_uri": "https://localhost:8080/"
        },
        "outputId": "8f3813df-8086-4465-a087-a37d04375be9"
      },
      "execution_count": null,
      "outputs": [
        {
          "output_type": "stream",
          "name": "stdout",
          "text": [
            "Shape of train matrix = (5329, 18455)\n",
            "F1 score: 0.7582781456953642\n"
          ]
        }
      ]
    }
  ],
  "metadata": {
    "kernelspec": {
      "display_name": "Python 3 (ipykernel)",
      "language": "python",
      "name": "python3"
    },
    "language_info": {
      "codemirror_mode": {
        "name": "ipython",
        "version": 3
      },
      "file_extension": ".py",
      "mimetype": "text/x-python",
      "name": "python",
      "nbconvert_exporter": "python",
      "pygments_lexer": "ipython3",
      "version": "3.8.5"
    },
    "colab": {
      "provenance": []
    }
  },
  "nbformat": 4,
  "nbformat_minor": 0
}